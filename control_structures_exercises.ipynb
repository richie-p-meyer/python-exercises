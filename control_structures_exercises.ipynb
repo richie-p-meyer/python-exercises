{
 "cells": [
  {
   "cell_type": "code",
   "execution_count": 111,
   "id": "e5a9166f",
   "metadata": {},
   "outputs": [
    {
     "name": "stdout",
     "output_type": "stream",
     "text": [
      "What day of the week is it?\n",
      "saturday\n",
      "Today is not Monday\n",
      "What day of the week is it?\n",
      "saturday\n",
      "Enjoy the weekend!\n"
     ]
    }
   ],
   "source": [
    "# Is today Monday? Is it the weekday or weekend?\n",
    "day_of_week = input('What day of the week is it?\\n')\n",
    "if day_of_week.lower() == 'monday':\n",
    "    print('Today is Monday')\n",
    "else:\n",
    "    print('Today is not Monday')\n",
    "weekday = input('What day of the week is it?\\n')\n",
    "if weekday.lower() != 'saturday' and weekday.lower() != 'sunday':\n",
    "    print('Today is a weekday')\n",
    "else:\n",
    "    print('Enjoy the weekend!')"
   ]
  },
  {
   "cell_type": "code",
   "execution_count": 112,
   "id": "f3c0a286",
   "metadata": {},
   "outputs": [
    {
     "name": "stdout",
     "output_type": "stream",
     "text": [
      "How many hours did you work this week?\n",
      "45\n",
      "How much do you make an hr?\n",
      "100\n",
      "Weekly monies: $5250.0\n",
      "Monthly monies: $21000.0\n",
      "Annual monies: $273000.0\n"
     ]
    }
   ],
   "source": [
    "# Weekly paycheck Calculator\n",
    "hrs_worked = int(input('How many hours did you work this week?\\n'))\n",
    "hr_rate = int(input('How much do you make an hr?\\n'))\n",
    "if hrs_worked <= 40:\n",
    "    paycheck = hrs_worked*hr_rate\n",
    "else:\n",
    "    extra_hrs = hrs_worked - 40\n",
    "    paycheck = hrs_worked*hr_rate+extra_hrs*hr_rate*1.5\n",
    "monthly = paycheck*4\n",
    "yearly = paycheck*52\n",
    "print('Weekly monies: $'+str(paycheck))\n",
    "print('Monthly monies: $'+str(monthly))\n",
    "print('Annual monies: $'+str(yearly))"
   ]
  },
  {
   "cell_type": "code",
   "execution_count": 14,
   "id": "64854459",
   "metadata": {},
   "outputs": [
    {
     "name": "stdout",
     "output_type": "stream",
     "text": [
      "5\n",
      "6\n",
      "7\n",
      "8\n",
      "9\n",
      "10\n",
      "11\n",
      "12\n",
      "13\n",
      "14\n",
      "15\n"
     ]
    }
   ],
   "source": [
    "i = 5\n",
    "while i <= 15:\n",
    "    print(i)\n",
    "    i+=1"
   ]
  },
  {
   "cell_type": "code",
   "execution_count": 20,
   "id": "4c827ad8",
   "metadata": {},
   "outputs": [
    {
     "name": "stdout",
     "output_type": "stream",
     "text": [
      "2\n",
      "4\n",
      "16\n",
      "256\n",
      "65536\n"
     ]
    }
   ],
   "source": [
    "i = 2\n",
    "while i < 1000000:\n",
    "    print(i)\n",
    "    i**=2\n",
    "    \n",
    "   "
   ]
  },
  {
   "cell_type": "code",
   "execution_count": 21,
   "id": "f934a4e8",
   "metadata": {},
   "outputs": [
    {
     "name": "stdout",
     "output_type": "stream",
     "text": [
      "100\n",
      "95\n",
      "90\n",
      "85\n",
      "80\n",
      "75\n",
      "70\n",
      "65\n",
      "60\n",
      "55\n",
      "50\n",
      "45\n",
      "40\n",
      "35\n",
      "30\n",
      "25\n",
      "20\n",
      "15\n",
      "10\n",
      "5\n"
     ]
    }
   ],
   "source": [
    "i = 100\n",
    "while i >=5:\n",
    "    print(i)\n",
    "    i -= 5"
   ]
  },
  {
   "cell_type": "code",
   "execution_count": 33,
   "id": "954474af",
   "metadata": {},
   "outputs": [
    {
     "name": "stdout",
     "output_type": "stream",
     "text": [
      "User, what is your number?! 9\n",
      "9 * 1 = 9\n",
      "9 * 2 = 18\n",
      "9 * 3 = 27\n",
      "9 * 4 = 36\n",
      "9 * 5 = 45\n",
      "9 * 6 = 54\n",
      "9 * 7 = 63\n",
      "9 * 8 = 72\n",
      "9 * 9 = 81\n",
      "9 * 10 = 90\n"
     ]
    }
   ],
   "source": [
    "number = int(input(\"User, what is your number?! \"))\n",
    "for n in list(range(1,11)):\n",
    "    equals = number*n\n",
    "    print(str(number)+' * '+str(n)+' = '+str(equals))"
   ]
  },
  {
   "cell_type": "code",
   "execution_count": 36,
   "id": "b1f1a8f3",
   "metadata": {},
   "outputs": [
    {
     "name": "stdout",
     "output_type": "stream",
     "text": [
      "1\n",
      "22\n",
      "333\n",
      "4444\n",
      "55555\n",
      "666666\n",
      "7777777\n",
      "88888888\n",
      "999999999\n"
     ]
    }
   ],
   "source": [
    "for n in list(range(1,10)):\n",
    "    print(str(n)*n)"
   ]
  },
  {
   "cell_type": "code",
   "execution_count": 39,
   "id": "388d44df",
   "metadata": {},
   "outputs": [
    {
     "name": "stdout",
     "output_type": "stream",
     "text": [
      "Enter a positive integer4\n",
      "4\n",
      "3\n",
      "2\n",
      "1\n"
     ]
    }
   ],
   "source": [
    "number = int(input(\"Enter a positive integer\"))\n",
    "while number > 0:\n",
    "    print(number)\n",
    "    number-=1"
   ]
  },
  {
   "cell_type": "code",
   "execution_count": 41,
   "id": "9a35a730",
   "metadata": {},
   "outputs": [
    {
     "name": "stdout",
     "output_type": "stream",
     "text": [
      "Enter a positive integer 4\n",
      "0\n",
      "1\n",
      "2\n",
      "3\n",
      "4\n"
     ]
    }
   ],
   "source": [
    "number = int(input(\"Enter a positive integer \"))\n",
    "count = 0\n",
    "while count <= number:\n",
    "    print(count)\n",
    "    count+=1"
   ]
  },
  {
   "cell_type": "code",
   "execution_count": 44,
   "id": "17e873f4",
   "metadata": {},
   "outputs": [
    {
     "name": "stdout",
     "output_type": "stream",
     "text": [
      "Enter an odd number 4\n",
      "Enter an odd number 3\n",
      "1\n",
      "Nup, can't make me print this number\n",
      "5\n",
      "7\n",
      "9\n",
      "11\n",
      "13\n",
      "15\n",
      "17\n",
      "19\n",
      "21\n",
      "23\n",
      "25\n",
      "27\n",
      "29\n",
      "31\n",
      "33\n",
      "35\n",
      "37\n",
      "39\n",
      "41\n",
      "43\n",
      "45\n",
      "47\n",
      "49\n"
     ]
    }
   ],
   "source": [
    "odd=2\n",
    "while odd%2 == 0:\n",
    "    odd = int(input(\"Enter an odd number \"))\n",
    "n = 1\n",
    "while n < 50:\n",
    "    if n == odd:\n",
    "        print(\"Nup, can't make me print this number\")\n",
    "        n+=2\n",
    "    else:\n",
    "        print(n)\n",
    "        n+=2"
   ]
  },
  {
   "cell_type": "code",
   "execution_count": 45,
   "id": "afba078b",
   "metadata": {},
   "outputs": [
    {
     "name": "stdout",
     "output_type": "stream",
     "text": [
      "1\n",
      "2\n",
      "Fizz\n",
      "4\n",
      "Buzz\n",
      "Fizz\n",
      "7\n",
      "8\n",
      "Fizz\n",
      "Buzz\n",
      "11\n",
      "Fizz\n",
      "13\n",
      "14\n",
      "FizzBuzz\n",
      "16\n",
      "17\n",
      "Fizz\n",
      "19\n",
      "Buzz\n",
      "Fizz\n",
      "22\n",
      "23\n",
      "Fizz\n",
      "Buzz\n",
      "26\n",
      "Fizz\n",
      "28\n",
      "29\n",
      "FizzBuzz\n",
      "31\n",
      "32\n",
      "Fizz\n",
      "34\n",
      "Buzz\n",
      "Fizz\n",
      "37\n",
      "38\n",
      "Fizz\n",
      "Buzz\n",
      "41\n",
      "Fizz\n",
      "43\n",
      "44\n",
      "FizzBuzz\n",
      "46\n",
      "47\n",
      "Fizz\n",
      "49\n",
      "Buzz\n",
      "Fizz\n",
      "52\n",
      "53\n",
      "Fizz\n",
      "Buzz\n",
      "56\n",
      "Fizz\n",
      "58\n",
      "59\n",
      "FizzBuzz\n",
      "61\n",
      "62\n",
      "Fizz\n",
      "64\n",
      "Buzz\n",
      "Fizz\n",
      "67\n",
      "68\n",
      "Fizz\n",
      "Buzz\n",
      "71\n",
      "Fizz\n",
      "73\n",
      "74\n",
      "FizzBuzz\n",
      "76\n",
      "77\n",
      "Fizz\n",
      "79\n",
      "Buzz\n",
      "Fizz\n",
      "82\n",
      "83\n",
      "Fizz\n",
      "Buzz\n",
      "86\n",
      "Fizz\n",
      "88\n",
      "89\n",
      "FizzBuzz\n",
      "91\n",
      "92\n",
      "Fizz\n",
      "94\n",
      "Buzz\n",
      "Fizz\n",
      "97\n",
      "98\n",
      "Fizz\n",
      "Buzz\n"
     ]
    }
   ],
   "source": [
    "#Fizzbuzz lezgo!\n",
    "for n in list(range(1,101)):\n",
    "    if n%3 == 0 and n%5==0:\n",
    "        print('FizzBuzz')\n",
    "    elif n%5 == 0:\n",
    "        print('Buzz')\n",
    "    elif n%3 == 0:\n",
    "        print('Fizz')\n",
    "    else:\n",
    "        print(n)"
   ]
  },
  {
   "cell_type": "code",
   "execution_count": 79,
   "id": "b7f01710",
   "metadata": {
    "scrolled": true
   },
   "outputs": [
    {
     "name": "stdout",
     "output_type": "stream",
     "text": [
      "What number would you like to go up to? 9\n",
      "number | squared | cubed \n",
      "------ | ------- |  -----\n",
      "1      |1        |1\n",
      "2      |4        |8\n",
      "3      |9        |27\n",
      "4      |16        |64\n",
      "5      |25        |125\n",
      "6      |36        |216\n",
      "7      |49        |343\n",
      "8      |64        |512\n",
      "9      |81        |729\n",
      "Would you like to continue? (1 or 0) 1\n",
      "What number would you like to go up to? 3\n",
      "number | squared | cubed \n",
      "------ | ------- |  -----\n",
      "1      |1        |1\n",
      "2      |4        |8\n",
      "3      |9        |27\n",
      "Would you like to continue? (1 or 0) 0\n"
     ]
    }
   ],
   "source": [
    "cont=1\n",
    "while cont == 1:\n",
    "    n = int(input('What number would you like to go up to? '))\n",
    "    print('number | squared | cubed ')\n",
    "    print('------ | ------- |  -----')\n",
    "    for num in list(range(1,n+1)):\n",
    "        print('{:<}      |{:<}        |{:<}'.format(num,num**2,num**3))\n",
    "    cont = int(input(\"Would you like to continue? (1 or 0) \"))\n",
    "    "
   ]
  },
  {
   "cell_type": "code",
   "execution_count": 81,
   "id": "878bd776",
   "metadata": {},
   "outputs": [
    {
     "name": "stdout",
     "output_type": "stream",
     "text": [
      "Please enter number grade. 99\n",
      "Your letter grade is: \n",
      "A\n",
      "Again? 1 or 0 1\n",
      "Please enter number grade. 3\n",
      "Your letter grade is: \n",
      "Please just quit\n",
      "Again? 1 or 0 0\n"
     ]
    }
   ],
   "source": [
    "cont = 1\n",
    "while cont ==1:\n",
    "    grade = int(input(\"Please enter number grade. \"))\n",
    "    print(\"Your letter grade is: \")\n",
    "    if grade >= 90:\n",
    "        print('A')\n",
    "    elif grade >=80:\n",
    "        print('B')\n",
    "    elif grade >=70:\n",
    "        print('D')\n",
    "    elif grade >=60:\n",
    "        print('Don\\'t bother')\n",
    "    else:\n",
    "        print('Please just quit')\n",
    "    cont = int(input(\"Again? 1 or 0 \"))"
   ]
  },
  {
   "cell_type": "code",
   "execution_count": 94,
   "id": "e87c86a4",
   "metadata": {},
   "outputs": [],
   "source": [
    "books = [{'title':'First Title','author':'author1','genre':'genre1'},\n",
    "        {'title':'Second Title','author':'author2','genre':'genre2'},\n",
    "        {'title':'Third Title','author':'author3','genre':'genre1'},\n",
    "        {'title':'Fourth Title','author':'author3','genre':'genre2'}]"
   ]
  },
  {
   "cell_type": "code",
   "execution_count": 92,
   "id": "176afeb3",
   "metadata": {},
   "outputs": [
    {
     "name": "stdout",
     "output_type": "stream",
     "text": [
      "First Title\n",
      "author1\n",
      "genre1\n",
      "Second Title\n",
      "author2\n",
      "genre2\n",
      "Third Title\n",
      "author3\n",
      "genre3\n"
     ]
    }
   ],
   "source": [
    "for n in list(range(0,len(books))):\n",
    "    print(books[n]['title'])\n",
    "    print(books[n]['author'])\n",
    "    print(books[n]['genre'])"
   ]
  },
  {
   "cell_type": "code",
   "execution_count": 108,
   "id": "d87dfe2a",
   "metadata": {},
   "outputs": [
    {
     "name": "stdout",
     "output_type": "stream",
     "text": [
      "Please pick \"genre1\", \"genre2\", or \"genre3\" genre1\n",
      "Books in the \"genre1\" category are: First Title Third Title\n"
     ]
    }
   ],
   "source": [
    "genre = input('Please pick \"genre1\", \"genre2\", or \"genre3\" ')\n",
    "books_in_genre = []\n",
    "for n in list(range(0,len(books))):\n",
    "    if books[n]['genre'] == genre:\n",
    "        books_in_genre.append(books[n]['title'])\n",
    "print('Books in the \\\"'+genre+'\\\" category are: '+' '.join(books_in_genre))"
   ]
  },
  {
   "cell_type": "code",
   "execution_count": null,
   "id": "238f065c",
   "metadata": {},
   "outputs": [],
   "source": []
  }
 ],
 "metadata": {
  "kernelspec": {
   "display_name": "Python 3 (ipykernel)",
   "language": "python",
   "name": "python3"
  },
  "language_info": {
   "codemirror_mode": {
    "name": "ipython",
    "version": 3
   },
   "file_extension": ".py",
   "mimetype": "text/x-python",
   "name": "python",
   "nbconvert_exporter": "python",
   "pygments_lexer": "ipython3",
   "version": "3.9.7"
  }
 },
 "nbformat": 4,
 "nbformat_minor": 5
}
