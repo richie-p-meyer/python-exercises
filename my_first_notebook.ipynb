{
 "cells": [
  {
   "cell_type": "markdown",
   "id": "1c8f9da2",
   "metadata": {},
   "source": [
    "Some shortcuts - dd delete cell, shift return runs cell, a creates cell above, b creates cell below"
   ]
  },
  {
   "cell_type": "code",
   "execution_count": 1,
   "id": "a9308a25",
   "metadata": {},
   "outputs": [],
   "source": [
    "cool_string = 'Cowboys might win the super bowl'"
   ]
  },
  {
   "cell_type": "code",
   "execution_count": 2,
   "id": "4a85524e",
   "metadata": {},
   "outputs": [
    {
     "data": {
      "text/plain": [
       "32"
      ]
     },
     "execution_count": 2,
     "metadata": {},
     "output_type": "execute_result"
    }
   ],
   "source": [
    "len(cool_string)"
   ]
  },
  {
   "cell_type": "code",
   "execution_count": 4,
   "id": "71da6793",
   "metadata": {},
   "outputs": [
    {
     "data": {
      "text/plain": [
       "'COWBOYS MIGHT WIN THE SUPER BOWL I AM YELLING!'"
      ]
     },
     "execution_count": 4,
     "metadata": {},
     "output_type": "execute_result"
    }
   ],
   "source": [
    "cool_string.upper()+' I AM YELLING!'"
   ]
  },
  {
   "cell_type": "code",
   "execution_count": 6,
   "id": "7249b6a2",
   "metadata": {},
   "outputs": [
    {
     "data": {
      "text/plain": [
       "'Cowboys might win the super bowl Useful For somethings'"
      ]
     },
     "execution_count": 6,
     "metadata": {},
     "output_type": "execute_result"
    }
   ],
   "source": [
    "cool_string.capitalize() + ' Useful For somethings'"
   ]
  },
  {
   "cell_type": "code",
   "execution_count": 8,
   "id": "a9c5675c",
   "metadata": {},
   "outputs": [
    {
     "data": {
      "text/plain": [
       "False"
      ]
     },
     "execution_count": 8,
     "metadata": {},
     "output_type": "execute_result"
    }
   ],
   "source": [
    "True == False"
   ]
  },
  {
   "cell_type": "code",
   "execution_count": 9,
   "id": "690a90da",
   "metadata": {},
   "outputs": [
    {
     "data": {
      "text/plain": [
       "True"
      ]
     },
     "execution_count": 9,
     "metadata": {},
     "output_type": "execute_result"
    }
   ],
   "source": [
    "False == False"
   ]
  },
  {
   "cell_type": "code",
   "execution_count": 10,
   "id": "6ffbf3a2",
   "metadata": {},
   "outputs": [
    {
     "data": {
      "text/plain": [
       "'weird'"
      ]
     },
     "execution_count": 10,
     "metadata": {},
     "output_type": "execute_result"
    }
   ],
   "source": [
    "'weird'"
   ]
  },
  {
   "cell_type": "code",
   "execution_count": null,
   "id": "be811bb9",
   "metadata": {},
   "outputs": [],
   "source": []
  }
 ],
 "metadata": {
  "kernelspec": {
   "display_name": "Python 3 (ipykernel)",
   "language": "python",
   "name": "python3"
  },
  "language_info": {
   "codemirror_mode": {
    "name": "ipython",
    "version": 3
   },
   "file_extension": ".py",
   "mimetype": "text/x-python",
   "name": "python",
   "nbconvert_exporter": "python",
   "pygments_lexer": "ipython3",
   "version": "3.9.7"
  }
 },
 "nbformat": 4,
 "nbformat_minor": 5
}
