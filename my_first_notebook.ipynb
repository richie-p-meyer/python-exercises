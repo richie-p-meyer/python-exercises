{
 "cells": [
  {
   "cell_type": "markdown",
   "id": "da94fe93",
   "metadata": {},
   "source": [
    "Some shortcuts - dd delete cell, shift return runs cell, a creates cell above, b creates cell below"
   ]
  },
  {
   "cell_type": "code",
   "execution_count": 1,
   "id": "85b1dd9a",
   "metadata": {},
   "outputs": [],
   "source": [
    "cool_string = 'Cowboys might win the super bowl'"
   ]
  },
  {
   "cell_type": "code",
   "execution_count": 2,
   "id": "f1dd87db",
   "metadata": {},
   "outputs": [
    {
     "data": {
      "text/plain": [
       "32"
      ]
     },
     "execution_count": 2,
     "metadata": {},
     "output_type": "execute_result"
    }
   ],
   "source": [
    "len(cool_string)"
   ]
  },
  {
   "cell_type": "code",
   "execution_count": 4,
   "id": "b0253c46",
   "metadata": {},
   "outputs": [
    {
     "data": {
      "text/plain": [
       "'COWBOYS MIGHT WIN THE SUPER BOWL I AM YELLING!'"
      ]
     },
     "execution_count": 4,
     "metadata": {},
     "output_type": "execute_result"
    }
   ],
   "source": [
    "cool_string.upper()+' I AM YELLING!'"
   ]
  },
  {
   "cell_type": "code",
   "execution_count": null,
   "id": "0d399740",
   "metadata": {},
   "outputs": [],
   "source": [
    "coo"
   ]
  }
 ],
 "metadata": {
  "kernelspec": {
   "display_name": "Python 3 (ipykernel)",
   "language": "python",
   "name": "python3"
  },
  "language_info": {
   "codemirror_mode": {
    "name": "ipython",
    "version": 3
   },
   "file_extension": ".py",
   "mimetype": "text/x-python",
   "name": "python",
   "nbconvert_exporter": "python",
   "pygments_lexer": "ipython3",
   "version": "3.9.7"
  }
 },
 "nbformat": 4,
 "nbformat_minor": 5
}
