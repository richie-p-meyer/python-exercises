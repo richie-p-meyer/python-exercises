{
 "cells": [
  {
   "cell_type": "code",
   "execution_count": 1,
   "id": "fa40f37e",
   "metadata": {},
   "outputs": [],
   "source": [
    "from function_exercises import get_letter_grade as glg"
   ]
  },
  {
   "cell_type": "code",
   "execution_count": 2,
   "id": "57cbf278",
   "metadata": {},
   "outputs": [
    {
     "data": {
      "text/plain": [
       "'A'"
      ]
     },
     "execution_count": 2,
     "metadata": {},
     "output_type": "execute_result"
    }
   ],
   "source": [
    "glg(99)"
   ]
  },
  {
   "cell_type": "code",
   "execution_count": 3,
   "id": "7c9e56b2",
   "metadata": {},
   "outputs": [],
   "source": [
    "import itertools"
   ]
  },
  {
   "cell_type": "code",
   "execution_count": 4,
   "id": "5f0fd23c",
   "metadata": {},
   "outputs": [
    {
     "data": {
      "text/plain": [
       "9"
      ]
     },
     "execution_count": 4,
     "metadata": {},
     "output_type": "execute_result"
    }
   ],
   "source": [
    "# 9 ways to combine chars from 'abc' w/chars from '123'\n",
    "len(list(itertools.product('abc','123')))"
   ]
  },
  {
   "cell_type": "code",
   "execution_count": 5,
   "id": "f9c60e8a",
   "metadata": {},
   "outputs": [
    {
     "data": {
      "text/plain": [
       "15"
      ]
     },
     "execution_count": 5,
     "metadata": {},
     "output_type": "execute_result"
    }
   ],
   "source": [
    "# 15 Combinations of 2 char in 'abc123'\n",
    "len(list(itertools.combinations('abc123',2)))"
   ]
  },
  {
   "cell_type": "code",
   "execution_count": 6,
   "id": "9343b30c",
   "metadata": {},
   "outputs": [
    {
     "data": {
      "text/plain": [
       "30"
      ]
     },
     "execution_count": 6,
     "metadata": {},
     "output_type": "execute_result"
    }
   ],
   "source": [
    "# 30 Permutations of 2 char in 'abc123'\n",
    "len(list(itertools.permutations('abc123',2)))"
   ]
  },
  {
   "cell_type": "code",
   "execution_count": 7,
   "id": "26fff732",
   "metadata": {},
   "outputs": [
    {
     "data": {
      "text/plain": [
       "20"
      ]
     },
     "execution_count": 7,
     "metadata": {},
     "output_type": "execute_result"
    }
   ],
   "source": [
    "len(list(itertools.combinations('abc123',3)))\n",
    "   "
   ]
  },
  {
   "cell_type": "code",
   "execution_count": 8,
   "id": "99d300d0",
   "metadata": {},
   "outputs": [
    {
     "data": {
      "text/plain": [
       "720"
      ]
     },
     "execution_count": 8,
     "metadata": {},
     "output_type": "execute_result"
    }
   ],
   "source": [
    "len(list(itertools.permutations('abc123',6)))"
   ]
  },
  {
   "cell_type": "code",
   "execution_count": 9,
   "id": "88efd84a",
   "metadata": {},
   "outputs": [],
   "source": [
    "import json\n",
    "\n",
    "profile = json.load(open('profiles.json'))\n"
   ]
  },
  {
   "cell_type": "code",
   "execution_count": 10,
   "id": "7c6445ef",
   "metadata": {},
   "outputs": [
    {
     "data": {
      "text/plain": [
       "19"
      ]
     },
     "execution_count": 10,
     "metadata": {},
     "output_type": "execute_result"
    }
   ],
   "source": [
    "# Number of users\n",
    "len(profile)"
   ]
  },
  {
   "cell_type": "code",
   "execution_count": 11,
   "id": "64aee728",
   "metadata": {},
   "outputs": [
    {
     "name": "stdout",
     "output_type": "stream",
     "text": [
      "9\n"
     ]
    }
   ],
   "source": [
    "# Number of active users\n",
    "count=0\n",
    "for p in profile:\n",
    "    if p['isActive']:\n",
    "        count+=1\n",
    "print(count)"
   ]
  },
  {
   "cell_type": "code",
   "execution_count": 12,
   "id": "424ab3a8",
   "metadata": {},
   "outputs": [
    {
     "name": "stdout",
     "output_type": "stream",
     "text": [
      "10\n"
     ]
    }
   ],
   "source": [
    "# Number of inactive users\n",
    "count=0\n",
    "for p in profile:\n",
    "    if not p['isActive']:\n",
    "        count+=1\n",
    "print(count)"
   ]
  },
  {
   "cell_type": "code",
   "execution_count": 13,
   "id": "7dc91261",
   "metadata": {},
   "outputs": [
    {
     "name": "stdout",
     "output_type": "stream",
     "text": [
      "$52667.02\n"
     ]
    }
   ],
   "source": [
    "# Grand total of balances for all users\n",
    "def clean_num(num):\n",
    "    return float(num.replace('$','').replace(',',''))\n",
    "\n",
    "balance=0\n",
    "for p in profile:\n",
    "    balance+=clean_num(p['balance'])\n",
    "        \n",
    "print('$'+str(balance))\n",
    "\n",
    "\n",
    "\n",
    "\n"
   ]
  },
  {
   "cell_type": "code",
   "execution_count": 14,
   "id": "b9b70fbf",
   "metadata": {},
   "outputs": [
    {
     "name": "stdout",
     "output_type": "stream",
     "text": [
      "$2771.95\n"
     ]
    }
   ],
   "source": [
    "# Average balance per user\n",
    "print('$'+str(round(balance/len(profile),2)))"
   ]
  },
  {
   "cell_type": "code",
   "execution_count": 15,
   "id": "557528d4",
   "metadata": {},
   "outputs": [],
   "source": [
    "#Clean all balance numbers and assign it back into the dict\n",
    "for p in range(0,len(profile)):\n",
    "    profile[p]['balance'] = clean_num((profile[p]['balance']))"
   ]
  },
  {
   "cell_type": "code",
   "execution_count": 16,
   "id": "3c777ccd",
   "metadata": {},
   "outputs": [
    {
     "name": "stdout",
     "output_type": "stream",
     "text": [
      "Avery Flynn has the low balance with $1214.1\n"
     ]
    }
   ],
   "source": [
    "# User with the lowest balance\n",
    "low_user = ''\n",
    "low_bal= 99999999999999\n",
    "\n",
    "for p in profile:\n",
    "    if p['balance'] < low_bal:\n",
    "        low_bal = p['balance']\n",
    "        low_user = p['name']\n",
    "print('{} has the low balance with ${}'.format(low_user,low_bal))\n",
    "    \n",
    "\n"
   ]
  },
  {
   "cell_type": "code",
   "execution_count": 17,
   "id": "4620f420",
   "metadata": {},
   "outputs": [
    {
     "name": "stdout",
     "output_type": "stream",
     "text": [
      "Fay Hammond has the high balance with $3919.64\n"
     ]
    }
   ],
   "source": [
    "# User with the highest balance\n",
    "h_user = ''\n",
    "h_bal=0\n",
    "\n",
    "for p in profile:\n",
    "    if p['balance'] > h_bal:\n",
    "        h_bal = p['balance']\n",
    "        h_user = p['name']\n",
    "print('{} has the high balance with ${}'.format(h_user,h_bal))"
   ]
  },
  {
   "cell_type": "code",
   "execution_count": 18,
   "id": "18e4b4d5",
   "metadata": {},
   "outputs": [
    {
     "name": "stdout",
     "output_type": "stream",
     "text": [
      "strawberry is the most common fruit with a count of 9\n"
     ]
    }
   ],
   "source": [
    "#Most common favorite fruit\n",
    "#store key and count in dict\n",
    "fruit_dict = {}\n",
    "for i in range(0,len(profile)):\n",
    "    fruit = profile[i]['favoriteFruit']\n",
    "    if fruit in fruit_dict:\n",
    "        fruit_dict[fruit] += 1\n",
    "    else:\n",
    "        fruit_dict[fruit] = 1\n",
    "\n",
    "print(max(fruit_dict)+' is the most common fruit with a count of '+str(fruit_dict[max(fruit_dict)]))    \n",
    "    "
   ]
  },
  {
   "cell_type": "code",
   "execution_count": 19,
   "id": "1e884122",
   "metadata": {},
   "outputs": [
    {
     "name": "stdout",
     "output_type": "stream",
     "text": [
      "apple is the lease common fruit with a count of 4\n"
     ]
    }
   ],
   "source": [
    "# Least most common favorite fruit\n",
    "print(min(fruit_dict)+' is the lease common fruit with a count of '+str(fruit_dict[min(fruit_dict)]))   "
   ]
  },
  {
   "cell_type": "code",
   "execution_count": 20,
   "id": "9899d08d",
   "metadata": {},
   "outputs": [
    {
     "name": "stdout",
     "output_type": "stream",
     "text": [
      "Total messages: 210\n"
     ]
    }
   ],
   "source": [
    "# Total number of unread messages for all users - 'greeting' is a string\n",
    "import re\n",
    "\n",
    "#Create function to grab number of messages as an int from 'greeting'\n",
    "def clean_greeting(greet):\n",
    "    return int(re.findall(r'\\d+', greet)[0])\n",
    "\n",
    "#Set a counter\n",
    "total_msgs = 0\n",
    "\n",
    "#Loop through 'greetings' to find all messages\n",
    "for p in range(0,len(profile)):\n",
    "    total_msgs += clean_greeting(profile[p]['greeting'])\n",
    "    \n",
    "print(f'Total messages: {total_msgs}')\n",
    "    "
   ]
  },
  {
   "cell_type": "code",
   "execution_count": 21,
   "id": "2de040c1",
   "metadata": {},
   "outputs": [],
   "source": [
    "book = {'title':'Atlas Shrugged','author':'Ayn Rand'}\n"
   ]
  },
  {
   "cell_type": "code",
   "execution_count": 22,
   "id": "16cf1419",
   "metadata": {},
   "outputs": [
    {
     "data": {
      "text/plain": [
       "'Ayn Rand'"
      ]
     },
     "execution_count": 22,
     "metadata": {},
     "output_type": "execute_result"
    }
   ],
   "source": [
    "book['author']"
   ]
  },
  {
   "cell_type": "code",
   "execution_count": null,
   "id": "eb22b01b",
   "metadata": {},
   "outputs": [],
   "source": []
  }
 ],
 "metadata": {
  "kernelspec": {
   "display_name": "Python 3 (ipykernel)",
   "language": "python",
   "name": "python3"
  },
  "language_info": {
   "codemirror_mode": {
    "name": "ipython",
    "version": 3
   },
   "file_extension": ".py",
   "mimetype": "text/x-python",
   "name": "python",
   "nbconvert_exporter": "python",
   "pygments_lexer": "ipython3",
   "version": "3.9.7"
  }
 },
 "nbformat": 4,
 "nbformat_minor": 5
}
