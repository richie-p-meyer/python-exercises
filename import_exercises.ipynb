{
 "cells": [
  {
   "cell_type": "code",
   "execution_count": 9,
   "id": "0795c691",
   "metadata": {},
   "outputs": [],
   "source": [
    "from function_exercises import get_letter_grade as glg"
   ]
  },
  {
   "cell_type": "code",
   "execution_count": 10,
   "id": "36b3ca3a",
   "metadata": {},
   "outputs": [
    {
     "data": {
      "text/plain": [
       "'A'"
      ]
     },
     "execution_count": 10,
     "metadata": {},
     "output_type": "execute_result"
    }
   ],
   "source": [
    "glg(99)"
   ]
  },
  {
   "cell_type": "code",
   "execution_count": 11,
   "id": "b5b7aa29",
   "metadata": {},
   "outputs": [],
   "source": [
    "import itertools"
   ]
  },
  {
   "cell_type": "code",
   "execution_count": 53,
   "id": "134f2e69",
   "metadata": {},
   "outputs": [
    {
     "data": {
      "text/plain": [
       "9"
      ]
     },
     "execution_count": 53,
     "metadata": {},
     "output_type": "execute_result"
    }
   ],
   "source": [
    "# 9 ways to combine chars from 'abc' w/chars from '123'\n",
    "len(list(itertools.product('abc','123')))"
   ]
  },
  {
   "cell_type": "code",
   "execution_count": 47,
   "id": "c410aa37",
   "metadata": {},
   "outputs": [
    {
     "data": {
      "text/plain": [
       "15"
      ]
     },
     "execution_count": 47,
     "metadata": {},
     "output_type": "execute_result"
    }
   ],
   "source": [
    "# 15 Combinations of 2 char in 'abc123'\n",
    "len(list(itertools.combinations('abc123',2)))"
   ]
  },
  {
   "cell_type": "code",
   "execution_count": 45,
   "id": "1c5dedb2",
   "metadata": {},
   "outputs": [
    {
     "data": {
      "text/plain": [
       "30"
      ]
     },
     "execution_count": 45,
     "metadata": {},
     "output_type": "execute_result"
    }
   ],
   "source": [
    "# 30 Permutations of 2 char in 'abc123'\n",
    "len(list(itertools.permutations('abc123',2)))"
   ]
  },
  {
   "cell_type": "code",
   "execution_count": 48,
   "id": "52ed77e5",
   "metadata": {},
   "outputs": [
    {
     "data": {
      "text/plain": [
       "20"
      ]
     },
     "execution_count": 48,
     "metadata": {},
     "output_type": "execute_result"
    }
   ],
   "source": [
    "len(list(itertools.combinations('abc123',3)))\n",
    "   "
   ]
  },
  {
   "cell_type": "code",
   "execution_count": 51,
   "id": "969dd981",
   "metadata": {},
   "outputs": [
    {
     "data": {
      "text/plain": [
       "720"
      ]
     },
     "execution_count": 51,
     "metadata": {},
     "output_type": "execute_result"
    }
   ],
   "source": [
    "len(list(itertools.permutations('abc123',6)))"
   ]
  },
  {
   "cell_type": "code",
   "execution_count": 55,
   "id": "9cb37664",
   "metadata": {},
   "outputs": [],
   "source": [
    "import json\n",
    "\n",
    "profile = json.load(open('profiles.json'))\n"
   ]
  },
  {
   "cell_type": "code",
   "execution_count": 57,
   "id": "94712261",
   "metadata": {},
   "outputs": [
    {
     "data": {
      "text/plain": [
       "19"
      ]
     },
     "execution_count": 57,
     "metadata": {},
     "output_type": "execute_result"
    }
   ],
   "source": [
    "# Number of users\n",
    "len(profile)"
   ]
  },
  {
   "cell_type": "code",
   "execution_count": 60,
   "id": "d5a85bb3",
   "metadata": {},
   "outputs": [
    {
     "name": "stdout",
     "output_type": "stream",
     "text": [
      "9\n"
     ]
    }
   ],
   "source": [
    "# Number of active users\n",
    "count=0\n",
    "for p in profile:\n",
    "    if p['isActive']:\n",
    "        count+=1\n",
    "print(count)"
   ]
  },
  {
   "cell_type": "code",
   "execution_count": 65,
   "id": "91d31f4e",
   "metadata": {},
   "outputs": [
    {
     "name": "stdout",
     "output_type": "stream",
     "text": [
      "10\n"
     ]
    }
   ],
   "source": [
    "# Number of inactive users\n",
    "count=0\n",
    "for p in profile:\n",
    "    if not p['isActive']:\n",
    "        count+=1\n",
    "print(count)"
   ]
  },
  {
   "cell_type": "code",
   "execution_count": 78,
   "id": "f500c957",
   "metadata": {},
   "outputs": [
    {
     "name": "stdout",
     "output_type": "stream",
     "text": [
      "$52667.02\n"
     ]
    }
   ],
   "source": [
    "# Grand total of balances for all users\n",
    "def clean_num(num):\n",
    "    return float(num.replace('$','').replace(',',''))\n",
    "\n",
    "balance=0\n",
    "for p in profile:\n",
    "    balance+=clean_num(p['balance'])\n",
    "        \n",
    "print('$'+str(balance))\n",
    "\n",
    "\n",
    "\n",
    "\n"
   ]
  },
  {
   "cell_type": "code",
   "execution_count": 82,
   "id": "e11ab67f",
   "metadata": {},
   "outputs": [
    {
     "name": "stdout",
     "output_type": "stream",
     "text": [
      "$2771.95\n"
     ]
    }
   ],
   "source": [
    "# Average balance per user\n",
    "print('$'+str(round(balance/len(profile),2)))"
   ]
  },
  {
   "cell_type": "code",
   "execution_count": 99,
   "id": "a0e46077",
   "metadata": {},
   "outputs": [
    {
     "name": "stdout",
     "output_type": "stream",
     "text": [
      "Avery Flynn has the low balance with $1214.1\n"
     ]
    }
   ],
   "source": [
    "# User with the lowest balance\n",
    "low_user = ''\n",
    "low_bal= 99999999999999\n",
    "\n",
    "for p in profile:\n",
    "    if p['balance'] < low_bal:\n",
    "        low_bal = p['balance']\n",
    "        low_user = p['name']\n",
    "print('{} has the low balance with ${}'.format(low_user,low_bal))\n",
    "    \n",
    "\n"
   ]
  },
  {
   "cell_type": "code",
   "execution_count": 101,
   "id": "7b6809f5",
   "metadata": {},
   "outputs": [
    {
     "name": "stdout",
     "output_type": "stream",
     "text": [
      "Fay Hammond has the high balance with $3919.64\n"
     ]
    }
   ],
   "source": [
    "# User with the highest balance\n",
    "h_user = ''\n",
    "h_bal=0\n",
    "\n",
    "for p in profile:\n",
    "    if p['balance'] > h_bal:\n",
    "        h_bal = p['balance']\n",
    "        h_user = p['name']\n",
    "print('{} has the high balance with ${}'.format(h_user,h_bal))"
   ]
  },
  {
   "cell_type": "code",
   "execution_count": 134,
   "id": "fd4417f3",
   "metadata": {},
   "outputs": [
    {
     "name": "stdout",
     "output_type": "stream",
     "text": [
      "strawberry is the most common fruit with a count of 9\n"
     ]
    }
   ],
   "source": [
    "#Most common favorite fruit\n",
    "#store key and count in dict\n",
    "fruit_dict = {}\n",
    "for i in range(0,len(profile)):\n",
    "    fruit = profile[i]['favoriteFruit']\n",
    "    if fruit in fruit_dict:\n",
    "        fruit_dict[fruit] += 1\n",
    "    else:\n",
    "        fruit_dict[fruit] = 1\n",
    "\n",
    "print(max(fruit_dict)+' is the most common fruit with a count of '+str(fruit_dict[max(fruit_dict)]))    \n",
    "    "
   ]
  },
  {
   "cell_type": "code",
   "execution_count": 135,
   "id": "10291ef6",
   "metadata": {},
   "outputs": [
    {
     "name": "stdout",
     "output_type": "stream",
     "text": [
      "apple is the lease common fruit with a count of 4\n"
     ]
    }
   ],
   "source": [
    "# Least most common favorite fruit\n",
    "print(min(fruit_dict)+' is the lease common fruit with a count of '+str(fruit_dict[min(fruit_dict)]))   "
   ]
  },
  {
   "cell_type": "code",
   "execution_count": 142,
   "id": "bd303b20",
   "metadata": {},
   "outputs": [
    {
     "name": "stdout",
     "output_type": "stream",
     "text": [
      "Total messages: 210\n"
     ]
    }
   ],
   "source": [
    "# Total number of unread messages for all users - 'greeting' is a string\n",
    "import re\n",
    "\n",
    "#Create function to grab number of messages as an int from 'greeting'\n",
    "def clean_greeting(greet):\n",
    "    return int(re.findall(r'\\d+', greet)[0])\n",
    "\n",
    "#Set a counter\n",
    "total_msgs = 0\n",
    "\n",
    "#Loop through 'greetings' to find all messages\n",
    "for p in range(0,len(profile)):\n",
    "    total_msgs += clean_greeting(profile[p]['greeting'])\n",
    "    \n",
    "print(f'Total messages: {total_msgs}')\n",
    "    "
   ]
  },
  {
   "cell_type": "code",
   "execution_count": null,
   "id": "65e1021f",
   "metadata": {},
   "outputs": [],
   "source": []
  }
 ],
 "metadata": {
  "kernelspec": {
   "display_name": "Python 3 (ipykernel)",
   "language": "python",
   "name": "python3"
  },
  "language_info": {
   "codemirror_mode": {
    "name": "ipython",
    "version": 3
   },
   "file_extension": ".py",
   "mimetype": "text/x-python",
   "name": "python",
   "nbconvert_exporter": "python",
   "pygments_lexer": "ipython3",
   "version": "3.9.7"
  }
 },
 "nbformat": 4,
 "nbformat_minor": 5
}
