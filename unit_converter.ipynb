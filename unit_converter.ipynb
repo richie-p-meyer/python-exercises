{
 "cells": [
  {
   "cell_type": "markdown",
   "id": "a7399cd4",
   "metadata": {},
   "source": [
    "Unit Conversions\n",
    "1 inch = 2.54 centimeters 1 kilogram = 2.2 pounds 1 fluid ounce = 30 milliliters\n",
    "\n",
    "Inches and centimeters\n",
    "Pounds and kilograms\n",
    "Fluid ounces and milliliters\n"
   ]
  },
  {
   "cell_type": "code",
   "execution_count": null,
   "id": "a6713e93",
   "metadata": {},
   "outputs": [],
   "source": [
    "unit, quantity\n",
    "\n",
    "def inch_to_cent(unit):"
   ]
  }
 ],
 "metadata": {
  "kernelspec": {
   "display_name": "Python 3 (ipykernel)",
   "language": "python",
   "name": "python3"
  },
  "language_info": {
   "codemirror_mode": {
    "name": "ipython",
    "version": 3
   },
   "file_extension": ".py",
   "mimetype": "text/x-python",
   "name": "python",
   "nbconvert_exporter": "python",
   "pygments_lexer": "ipython3",
   "version": "3.9.7"
  }
 },
 "nbformat": 4,
 "nbformat_minor": 5
}
