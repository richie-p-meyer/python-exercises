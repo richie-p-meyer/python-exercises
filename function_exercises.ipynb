{
 "cells": [
  {
   "cell_type": "code",
   "execution_count": 3,
   "id": "edb3204f",
   "metadata": {},
   "outputs": [],
   "source": [
    "#Create function to determine if input is 2 as an int or string\n",
    "def is_two(num):\n",
    "    #Return True if int 2 or str '2'\n",
    "    if num == 2 or num == '2':\n",
    "        return True\n",
    "    #Return if not\n",
    "    else:\n",
    "        return False\n",
    "    "
   ]
  },
  {
   "cell_type": "code",
   "execution_count": 8,
   "id": "05ed64c6",
   "metadata": {},
   "outputs": [
    {
     "data": {
      "text/plain": [
       "False"
      ]
     },
     "execution_count": 8,
     "metadata": {},
     "output_type": "execute_result"
    }
   ],
   "source": [
    "is_two('3')"
   ]
  },
  {
   "cell_type": "code",
   "execution_count": 9,
   "id": "a83fee42",
   "metadata": {},
   "outputs": [],
   "source": [
    "#Create function to determine if letter is a vowel\n",
    "def is_vowel(let):\n",
    "    #Check to see if let is a vowel, if so return True\n",
    "    if let in ['a','e','i','o','u']:\n",
    "        return True\n",
    "    #If not a vowel, return False\n",
    "    else:\n",
    "        return False"
   ]
  },
  {
   "cell_type": "code",
   "execution_count": 13,
   "id": "fecd3120",
   "metadata": {},
   "outputs": [
    {
     "data": {
      "text/plain": [
       "True"
      ]
     },
     "execution_count": 13,
     "metadata": {},
     "output_type": "execute_result"
    }
   ],
   "source": [
    "is_vowel('a')"
   ]
  },
  {
   "cell_type": "code",
   "execution_count": 14,
   "id": "fc534cd7",
   "metadata": {},
   "outputs": [],
   "source": [
    "#Function to determine if a letter is a consonant\n",
    "def is_consonant(let):\n",
    "    #If let not a vowel, return True\n",
    "    if let not in ['a','e','i','o','u']:\n",
    "        return True\n",
    "    else:\n",
    "        return False"
   ]
  },
  {
   "cell_type": "code",
   "execution_count": 16,
   "id": "87a3e675",
   "metadata": {},
   "outputs": [
    {
     "data": {
      "text/plain": [
       "False"
      ]
     },
     "execution_count": 16,
     "metadata": {},
     "output_type": "execute_result"
    }
   ],
   "source": [
    "is_consonant('a')"
   ]
  },
  {
   "cell_type": "code",
   "execution_count": 22,
   "id": "6cc7561f",
   "metadata": {},
   "outputs": [],
   "source": [
    "#Function to captitalize a word if it begins with a consonant\n",
    "def cap_word_if_cons(word):\n",
    "    #Use is_consonant function to determine first letter\n",
    "    if is_consonant(word[0]) :\n",
    "        return word.capitalize()\n",
    "    else:\n",
    "        return word"
   ]
  },
  {
   "cell_type": "code",
   "execution_count": 23,
   "id": "58eb925f",
   "metadata": {},
   "outputs": [
    {
     "data": {
      "text/plain": [
       "'Butter'"
      ]
     },
     "execution_count": 23,
     "metadata": {},
     "output_type": "execute_result"
    }
   ],
   "source": [
    "cap_word_if_cons('butter')"
   ]
  },
  {
   "cell_type": "code",
   "execution_count": 24,
   "id": "ca907390",
   "metadata": {},
   "outputs": [],
   "source": [
    "#Function to calculate tip - Pass in tip percent as decimal and bill total\n",
    "def calculate_tip(tip_per,bill_total):\n",
    "    return bill_total*tip_per"
   ]
  },
  {
   "cell_type": "code",
   "execution_count": 25,
   "id": "0e687275",
   "metadata": {},
   "outputs": [
    {
     "data": {
      "text/plain": [
       "20.0"
      ]
     },
     "execution_count": 25,
     "metadata": {},
     "output_type": "execute_result"
    }
   ],
   "source": [
    "calculate_tip(.2,100)"
   ]
  },
  {
   "cell_type": "code",
   "execution_count": 26,
   "id": "12d17d18",
   "metadata": {},
   "outputs": [],
   "source": [
    "#Create function to determine price after a discount\n",
    "#org_price is original price, discount_per is discount as decimal\n",
    "def apply_discount(org_price,discount_per):\n",
    "    \n",
    "    #discount to be subtracted from original price\n",
    "    discount = org_price*discount_per\n",
    "    return org_price-discount"
   ]
  },
  {
   "cell_type": "code",
   "execution_count": 27,
   "id": "d6995702",
   "metadata": {},
   "outputs": [
    {
     "data": {
      "text/plain": [
       "50.0"
      ]
     },
     "execution_count": 27,
     "metadata": {},
     "output_type": "execute_result"
    }
   ],
   "source": [
    "apply_discount(100,.5)"
   ]
  },
  {
   "cell_type": "code",
   "execution_count": 28,
   "id": "5e61c8a7",
   "metadata": {},
   "outputs": [],
   "source": [
    "#Function to remove commas from a string number\n",
    "def handle_commas(str_num):\n",
    "    return int(str_num.replace(',',''))"
   ]
  },
  {
   "cell_type": "code",
   "execution_count": 31,
   "id": "b7f4ba3b",
   "metadata": {},
   "outputs": [
    {
     "data": {
      "text/plain": [
       "1200"
      ]
     },
     "execution_count": 31,
     "metadata": {},
     "output_type": "execute_result"
    }
   ],
   "source": [
    "handle_commas('1,200')"
   ]
  },
  {
   "cell_type": "code",
   "execution_count": 32,
   "id": "c27223d2",
   "metadata": {},
   "outputs": [],
   "source": [
    "#Create function to translate number grade to letter grade\n",
    "#num is for number grade\n",
    "def get_letter_grade(num):\n",
    "    if num >= 90:\n",
    "        return 'A'\n",
    "    elif num >= 80:\n",
    "        return 'B'\n",
    "    elif num >= 70:\n",
    "        return 'C'\n",
    "    elif num >= 60:\n",
    "        return 'D'\n",
    "    else:\n",
    "        return 'F'"
   ]
  },
  {
   "cell_type": "code",
   "execution_count": 33,
   "id": "55ba6dc9",
   "metadata": {},
   "outputs": [
    {
     "data": {
      "text/plain": [
       "'F'"
      ]
     },
     "execution_count": 33,
     "metadata": {},
     "output_type": "execute_result"
    }
   ],
   "source": [
    "get_letter_grade(40)"
   ]
  },
  {
   "cell_type": "code",
   "execution_count": 38,
   "id": "efab9ec7",
   "metadata": {},
   "outputs": [],
   "source": [
    "#Function to remove vowels from a string\n",
    "def remove_vowels(string):\n",
    "    for s in string:\n",
    "        #Determine if letter is a vowel, if so remove it\n",
    "        if is_vowel(s):\n",
    "            string = string.replace(s,'')\n",
    "        \n",
    "    return string"
   ]
  },
  {
   "cell_type": "code",
   "execution_count": 39,
   "id": "9252ca0b",
   "metadata": {},
   "outputs": [
    {
     "data": {
      "text/plain": [
       "'tst'"
      ]
     },
     "execution_count": 39,
     "metadata": {},
     "output_type": "execute_result"
    }
   ],
   "source": [
    "remove_vowels('test')"
   ]
  },
  {
   "cell_type": "code",
   "execution_count": 40,
   "id": "8f06b59b",
   "metadata": {},
   "outputs": [],
   "source": [
    "#Function to remove white space, lower, and replace a space with an underscore for a string\n",
    "def normalize_name(string):\n",
    "    return string.strip().lower().replace(' ','_')"
   ]
  },
  {
   "cell_type": "code",
   "execution_count": 41,
   "id": "f1bad046",
   "metadata": {},
   "outputs": [
    {
     "data": {
      "text/plain": [
       "'not_going_to_work'"
      ]
     },
     "execution_count": 41,
     "metadata": {},
     "output_type": "execute_result"
    }
   ],
   "source": [
    "normalize_name('not going to woRK')"
   ]
  },
  {
   "cell_type": "code",
   "execution_count": 44,
   "id": "67ecf85a",
   "metadata": {},
   "outputs": [],
   "source": [
    "#Create a function to sum cumulative numbers in a list\n",
    "#numbers need to be a list of integers\n",
    "def cumulative_sum(numbers):\n",
    "    #sum is total sum of list for each iteration\n",
    "    sum=0\n",
    "    #new_list stores each new sum and is later returned\n",
    "    new_list = []\n",
    "    for n in numbers:\n",
    "        sum+=n\n",
    "        new_list.append(sum)\n",
    "    return new_list"
   ]
  },
  {
   "cell_type": "code",
   "execution_count": 46,
   "id": "657edb8f",
   "metadata": {},
   "outputs": [
    {
     "data": {
      "text/plain": [
       "[1, 3, 6, 10]"
      ]
     },
     "execution_count": 46,
     "metadata": {},
     "output_type": "execute_result"
    }
   ],
   "source": [
    "cumulative_sum([1,2,3,4])"
   ]
  },
  {
   "cell_type": "code",
   "execution_count": null,
   "id": "5d368052",
   "metadata": {},
   "outputs": [],
   "source": []
  }
 ],
 "metadata": {
  "kernelspec": {
   "display_name": "Python 3 (ipykernel)",
   "language": "python",
   "name": "python3"
  },
  "language_info": {
   "codemirror_mode": {
    "name": "ipython",
    "version": 3
   },
   "file_extension": ".py",
   "mimetype": "text/x-python",
   "name": "python",
   "nbconvert_exporter": "python",
   "pygments_lexer": "ipython3",
   "version": "3.9.7"
  }
 },
 "nbformat": 4,
 "nbformat_minor": 5
}
