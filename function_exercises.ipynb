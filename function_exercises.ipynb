{
 "cells": [
  {
   "cell_type": "code",
   "execution_count": 47,
   "id": "0d25ec05",
   "metadata": {},
   "outputs": [],
   "source": [
    "import re"
   ]
  },
  {
   "cell_type": "code",
   "execution_count": 3,
   "id": "5dc3d2a5",
   "metadata": {},
   "outputs": [],
   "source": [
    "#Create function to determine if input is 2 as an int or string\n",
    "def is_two(num):\n",
    "    #Return True if int 2 or str '2'\n",
    "    if num == 2 or num == '2':\n",
    "        return True\n",
    "    #Return if not\n",
    "    else:\n",
    "        return False\n",
    "    "
   ]
  },
  {
   "cell_type": "code",
   "execution_count": 8,
   "id": "457c91c8",
   "metadata": {},
   "outputs": [
    {
     "data": {
      "text/plain": [
       "False"
      ]
     },
     "execution_count": 8,
     "metadata": {},
     "output_type": "execute_result"
    }
   ],
   "source": [
    "is_two('3')"
   ]
  },
  {
   "cell_type": "code",
   "execution_count": 9,
   "id": "9fd7ab9d",
   "metadata": {},
   "outputs": [],
   "source": [
    "#Create function to determine if letter is a vowel\n",
    "def is_vowel(let):\n",
    "    #Check to see if let is a vowel, if so return True\n",
    "    if let in ['a','e','i','o','u']:\n",
    "        return True\n",
    "    #If not a vowel, return False\n",
    "    else:\n",
    "        return False"
   ]
  },
  {
   "cell_type": "code",
   "execution_count": 13,
   "id": "25f5e2d9",
   "metadata": {},
   "outputs": [
    {
     "data": {
      "text/plain": [
       "True"
      ]
     },
     "execution_count": 13,
     "metadata": {},
     "output_type": "execute_result"
    }
   ],
   "source": [
    "is_vowel('a')"
   ]
  },
  {
   "cell_type": "code",
   "execution_count": 14,
   "id": "da5e26cf",
   "metadata": {},
   "outputs": [],
   "source": [
    "#Function to determine if a letter is a consonant\n",
    "def is_consonant(let):\n",
    "    #If let not a vowel, return True\n",
    "    if let not in ['a','e','i','o','u']:\n",
    "        return True\n",
    "    else:\n",
    "        return False"
   ]
  },
  {
   "cell_type": "code",
   "execution_count": 16,
   "id": "4a3db0ae",
   "metadata": {},
   "outputs": [
    {
     "data": {
      "text/plain": [
       "False"
      ]
     },
     "execution_count": 16,
     "metadata": {},
     "output_type": "execute_result"
    }
   ],
   "source": [
    "is_consonant('a')"
   ]
  },
  {
   "cell_type": "code",
   "execution_count": 22,
   "id": "4f3045ef",
   "metadata": {},
   "outputs": [],
   "source": [
    "#Function to captitalize a word if it begins with a consonant\n",
    "def cap_word_if_cons(word):\n",
    "    #Use is_consonant function to determine first letter\n",
    "    if is_consonant(word[0]) :\n",
    "        return word.capitalize()\n",
    "    else:\n",
    "        return word"
   ]
  },
  {
   "cell_type": "code",
   "execution_count": 23,
   "id": "8bf3026c",
   "metadata": {},
   "outputs": [
    {
     "data": {
      "text/plain": [
       "'Butter'"
      ]
     },
     "execution_count": 23,
     "metadata": {},
     "output_type": "execute_result"
    }
   ],
   "source": [
    "cap_word_if_cons('butter')"
   ]
  },
  {
   "cell_type": "code",
   "execution_count": 24,
   "id": "2b3af675",
   "metadata": {},
   "outputs": [],
   "source": [
    "#Function to calculate tip - Pass in tip percent as decimal and bill total\n",
    "def calculate_tip(tip_per,bill_total):\n",
    "    return bill_total*tip_per"
   ]
  },
  {
   "cell_type": "code",
   "execution_count": 25,
   "id": "4a4e7102",
   "metadata": {},
   "outputs": [
    {
     "data": {
      "text/plain": [
       "20.0"
      ]
     },
     "execution_count": 25,
     "metadata": {},
     "output_type": "execute_result"
    }
   ],
   "source": [
    "calculate_tip(.2,100)"
   ]
  },
  {
   "cell_type": "code",
   "execution_count": 26,
   "id": "7ac913b5",
   "metadata": {},
   "outputs": [],
   "source": [
    "#Create function to determine price after a discount\n",
    "#org_price is original price, discount_per is discount as decimal\n",
    "def apply_discount(org_price,discount_per):\n",
    "    \n",
    "    #discount to be subtracted from original price\n",
    "    discount = org_price*discount_per\n",
    "    return org_price-discount"
   ]
  },
  {
   "cell_type": "code",
   "execution_count": 27,
   "id": "62e8a0f4",
   "metadata": {},
   "outputs": [
    {
     "data": {
      "text/plain": [
       "50.0"
      ]
     },
     "execution_count": 27,
     "metadata": {},
     "output_type": "execute_result"
    }
   ],
   "source": [
    "apply_discount(100,.5)"
   ]
  },
  {
   "cell_type": "code",
   "execution_count": 28,
   "id": "0736ed9a",
   "metadata": {},
   "outputs": [],
   "source": [
    "#Function to remove commas from a string number\n",
    "def handle_commas(str_num):\n",
    "    return int(str_num.replace(',',''))"
   ]
  },
  {
   "cell_type": "code",
   "execution_count": 31,
   "id": "737a8783",
   "metadata": {},
   "outputs": [
    {
     "data": {
      "text/plain": [
       "1200"
      ]
     },
     "execution_count": 31,
     "metadata": {},
     "output_type": "execute_result"
    }
   ],
   "source": [
    "handle_commas('1,200')"
   ]
  },
  {
   "cell_type": "code",
   "execution_count": 32,
   "id": "a4aaa439",
   "metadata": {},
   "outputs": [],
   "source": [
    "#Create function to translate number grade to letter grade\n",
    "#num is for number grade\n",
    "def get_letter_grade(num):\n",
    "    if num >= 90:\n",
    "        return 'A'\n",
    "    elif num >= 80:\n",
    "        return 'B'\n",
    "    elif num >= 70:\n",
    "        return 'C'\n",
    "    elif num >= 60:\n",
    "        return 'D'\n",
    "    else:\n",
    "        return 'F'"
   ]
  },
  {
   "cell_type": "code",
   "execution_count": 33,
   "id": "d1fa750d",
   "metadata": {},
   "outputs": [
    {
     "data": {
      "text/plain": [
       "'F'"
      ]
     },
     "execution_count": 33,
     "metadata": {},
     "output_type": "execute_result"
    }
   ],
   "source": [
    "get_letter_grade(40)"
   ]
  },
  {
   "cell_type": "code",
   "execution_count": 38,
   "id": "37793b74",
   "metadata": {},
   "outputs": [],
   "source": [
    "#Function to remove vowels from a string\n",
    "def remove_vowels(string):\n",
    "    for s in string:\n",
    "        #Determine if letter is a vowel, if so remove it\n",
    "        if is_vowel(s):\n",
    "            string = string.replace(s,'')\n",
    "        \n",
    "    return string"
   ]
  },
  {
   "cell_type": "code",
   "execution_count": 39,
   "id": "5509d0d4",
   "metadata": {},
   "outputs": [
    {
     "data": {
      "text/plain": [
       "'tst'"
      ]
     },
     "execution_count": 39,
     "metadata": {},
     "output_type": "execute_result"
    }
   ],
   "source": [
    "remove_vowels('test')"
   ]
  },
  {
   "cell_type": "code",
   "execution_count": 63,
   "id": "7774d582",
   "metadata": {},
   "outputs": [],
   "source": [
    "#Function to remove white space, lower, and replace a space with an underscore for a string\n",
    "import re\n",
    "def normalize_name(string):\n",
    "    #Removing all these characters \n",
    "    string, n = re.subn('[!@#$%^&*\\(\\)+=-]', '', string)\n",
    "    return string.strip().lower().replace(' ','_')"
   ]
  },
  {
   "cell_type": "code",
   "execution_count": 65,
   "id": "aaaaae89",
   "metadata": {},
   "outputs": [
    {
     "data": {
      "text/plain": [
       "'not_going_to_244_work'"
      ]
     },
     "execution_count": 65,
     "metadata": {},
     "output_type": "execute_result"
    }
   ],
   "source": [
    "normalize_name('not going to 244*^# (woRK')"
   ]
  },
  {
   "cell_type": "code",
   "execution_count": 44,
   "id": "e5028ef9",
   "metadata": {},
   "outputs": [],
   "source": [
    "#Create a function to sum cumulative numbers in a list\n",
    "#numbers need to be a list of integers\n",
    "def cumulative_sum(numbers):\n",
    "    #sum is total sum of list for each iteration\n",
    "    sum=0\n",
    "    #new_list stores each new sum and is later returned\n",
    "    new_list = []\n",
    "    for n in numbers:\n",
    "        sum+=n\n",
    "        new_list.append(sum)\n",
    "    return new_list"
   ]
  },
  {
   "cell_type": "code",
   "execution_count": 46,
   "id": "b6b55647",
   "metadata": {},
   "outputs": [
    {
     "data": {
      "text/plain": [
       "[1, 3, 6, 10]"
      ]
     },
     "execution_count": 46,
     "metadata": {},
     "output_type": "execute_result"
    }
   ],
   "source": [
    "cumulative_sum([1,2,3,4])"
   ]
  },
  {
   "cell_type": "code",
   "execution_count": 48,
   "id": "00f48c78",
   "metadata": {},
   "outputs": [],
   "source": [
    "text = '&ts_9$^^JKlae@!'"
   ]
  },
  {
   "cell_type": "code",
   "execution_count": 49,
   "id": "0941c075",
   "metadata": {},
   "outputs": [],
   "source": [
    "pattern = re.compile('\\W')\n",
    "s = re.sub(pattern, '', text)"
   ]
  },
  {
   "cell_type": "code",
   "execution_count": 50,
   "id": "3e0a13b9",
   "metadata": {},
   "outputs": [
    {
     "data": {
      "text/plain": [
       "'ts_9JKlae'"
      ]
     },
     "execution_count": 50,
     "metadata": {},
     "output_type": "execute_result"
    }
   ],
   "source": [
    "s"
   ]
  },
  {
   "cell_type": "code",
   "execution_count": null,
   "id": "74f534a0",
   "metadata": {},
   "outputs": [],
   "source": []
  }
 ],
 "metadata": {
  "kernelspec": {
   "display_name": "Python 3 (ipykernel)",
   "language": "python",
   "name": "python3"
  },
  "language_info": {
   "codemirror_mode": {
    "name": "ipython",
    "version": 3
   },
   "file_extension": ".py",
   "mimetype": "text/x-python",
   "name": "python",
   "nbconvert_exporter": "python",
   "pygments_lexer": "ipython3",
   "version": "3.9.7"
  }
 },
 "nbformat": 4,
 "nbformat_minor": 5
}
