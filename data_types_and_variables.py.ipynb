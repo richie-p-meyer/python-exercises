{
 "cells": [
  {
   "cell_type": "code",
   "execution_count": 6,
   "id": "a44e967b",
   "metadata": {},
   "outputs": [
    {
     "data": {
      "text/plain": [
       "True"
      ]
     },
     "execution_count": 6,
     "metadata": {},
     "output_type": "execute_result"
    }
   ],
   "source": [
    "'1123'.isdigit()"
   ]
  },
  {
   "cell_type": "code",
   "execution_count": 14,
   "id": "8e9ac670",
   "metadata": {},
   "outputs": [],
   "source": [
    "a = '11232'"
   ]
  },
  {
   "cell_type": "code",
   "execution_count": 15,
   "id": "4a376034",
   "metadata": {},
   "outputs": [
    {
     "data": {
      "text/plain": [
       "['1', '1', '2', '3', '2']"
      ]
     },
     "execution_count": 15,
     "metadata": {},
     "output_type": "execute_result"
    }
   ],
   "source": [
    "list(a)"
   ]
  },
  {
   "cell_type": "code",
   "execution_count": 12,
   "id": "a20bb37d",
   "metadata": {},
   "outputs": [
    {
     "data": {
      "text/plain": [
       "['1', '2', '3', '4']"
      ]
     },
     "execution_count": 12,
     "metadata": {},
     "output_type": "execute_result"
    }
   ],
   "source": [
    "list('1234')"
   ]
  },
  {
   "cell_type": "code",
   "execution_count": 16,
   "id": "37feed03",
   "metadata": {},
   "outputs": [
    {
     "data": {
      "text/plain": [
       "[0, 1, 2, 3, 4, 5, 6, 7, 8, 9]"
      ]
     },
     "execution_count": 16,
     "metadata": {},
     "output_type": "execute_result"
    }
   ],
   "source": [
    "list(range(0,10))"
   ]
  },
  {
   "cell_type": "code",
   "execution_count": 21,
   "id": "4875d05a",
   "metadata": {},
   "outputs": [],
   "source": [
    "dan = dict(name='Dan',age=40, school='OMS')"
   ]
  },
  {
   "cell_type": "code",
   "execution_count": 23,
   "id": "3c493655",
   "metadata": {},
   "outputs": [
    {
     "data": {
      "text/plain": [
       "'OMS'"
      ]
     },
     "execution_count": 23,
     "metadata": {},
     "output_type": "execute_result"
    }
   ],
   "source": [
    "dan['school']"
   ]
  },
  {
   "cell_type": "code",
   "execution_count": 24,
   "id": "b77f1750",
   "metadata": {},
   "outputs": [],
   "source": [
    "dan['age']+=5"
   ]
  },
  {
   "cell_type": "code",
   "execution_count": 25,
   "id": "4bd5efc7",
   "metadata": {
    "scrolled": true
   },
   "outputs": [
    {
     "data": {
      "text/plain": [
       "45"
      ]
     },
     "execution_count": 25,
     "metadata": {},
     "output_type": "execute_result"
    }
   ],
   "source": [
    "dan['age']"
   ]
  },
  {
   "cell_type": "code",
   "execution_count": 28,
   "id": "bdf2cbe7",
   "metadata": {},
   "outputs": [
    {
     "data": {
      "text/plain": [
       "int"
      ]
     },
     "execution_count": 28,
     "metadata": {},
     "output_type": "execute_result"
    }
   ],
   "source": [
    "type(6 % 4)\n",
    "\n"
   ]
  },
  {
   "cell_type": "code",
   "execution_count": 29,
   "id": "3a806709",
   "metadata": {},
   "outputs": [
    {
     "data": {
      "text/plain": [
       "type"
      ]
     },
     "execution_count": 29,
     "metadata": {},
     "output_type": "execute_result"
    }
   ],
   "source": [
    "type(type(6 % 4))\n"
   ]
  },
  {
   "cell_type": "code",
   "execution_count": 30,
   "id": "cae4966f",
   "metadata": {},
   "outputs": [
    {
     "ename": "TypeError",
     "evalue": "can only concatenate str (not \"int\") to str",
     "output_type": "error",
     "traceback": [
      "\u001b[0;31m---------------------------------------------------------------------------\u001b[0m",
      "\u001b[0;31mTypeError\u001b[0m                                 Traceback (most recent call last)",
      "\u001b[0;32m/var/folders/fz/0282wvb93rn0lm_p0nscw1sm0000gn/T/ipykernel_32301/2745667065.py\u001b[0m in \u001b[0;36m<module>\u001b[0;34m\u001b[0m\n\u001b[0;32m----> 1\u001b[0;31m \u001b[0;34m'3 + 4 is '\u001b[0m \u001b[0;34m+\u001b[0m \u001b[0;36m3\u001b[0m \u001b[0;34m+\u001b[0m \u001b[0;36m4\u001b[0m\u001b[0;34m\u001b[0m\u001b[0;34m\u001b[0m\u001b[0m\n\u001b[0m",
      "\u001b[0;31mTypeError\u001b[0m: can only concatenate str (not \"int\") to str"
     ]
    }
   ],
   "source": [
    "'3 + 4 is ' + 3 + 4\n"
   ]
  },
  {
   "cell_type": "code",
   "execution_count": 31,
   "id": "8f5dec6d",
   "metadata": {},
   "outputs": [
    {
     "data": {
      "text/plain": [
       "False"
      ]
     },
     "execution_count": 31,
     "metadata": {},
     "output_type": "execute_result"
    }
   ],
   "source": [
    "0 < 0\n"
   ]
  },
  {
   "cell_type": "code",
   "execution_count": 32,
   "id": "51ea4502",
   "metadata": {},
   "outputs": [
    {
     "data": {
      "text/plain": [
       "False"
      ]
     },
     "execution_count": 32,
     "metadata": {},
     "output_type": "execute_result"
    }
   ],
   "source": [
    "'False' == False\n"
   ]
  },
  {
   "cell_type": "code",
   "execution_count": 33,
   "id": "19064b47",
   "metadata": {},
   "outputs": [
    {
     "data": {
      "text/plain": [
       "False"
      ]
     },
     "execution_count": 33,
     "metadata": {},
     "output_type": "execute_result"
    }
   ],
   "source": [
    "True == 'True'\n"
   ]
  },
  {
   "cell_type": "code",
   "execution_count": 34,
   "id": "311ae66a",
   "metadata": {},
   "outputs": [
    {
     "data": {
      "text/plain": [
       "True"
      ]
     },
     "execution_count": 34,
     "metadata": {},
     "output_type": "execute_result"
    }
   ],
   "source": [
    "5 >= -5\n"
   ]
  },
  {
   "cell_type": "code",
   "execution_count": 35,
   "id": "cbb4ce99",
   "metadata": {},
   "outputs": [
    {
     "data": {
      "text/plain": [
       "True"
      ]
     },
     "execution_count": 35,
     "metadata": {},
     "output_type": "execute_result"
    }
   ],
   "source": [
    "True or \"42\"\n"
   ]
  },
  {
   "cell_type": "code",
   "execution_count": 36,
   "id": "de4cc366",
   "metadata": {},
   "outputs": [
    {
     "data": {
      "text/plain": [
       "1"
      ]
     },
     "execution_count": 36,
     "metadata": {},
     "output_type": "execute_result"
    }
   ],
   "source": [
    "6 % 5\n"
   ]
  },
  {
   "cell_type": "code",
   "execution_count": 37,
   "id": "1b2dfeac",
   "metadata": {},
   "outputs": [
    {
     "data": {
      "text/plain": [
       "False"
      ]
     },
     "execution_count": 37,
     "metadata": {},
     "output_type": "execute_result"
    }
   ],
   "source": [
    "5 < 4 and 1 == 1\n"
   ]
  },
  {
   "cell_type": "code",
   "execution_count": 38,
   "id": "8d180ca8",
   "metadata": {},
   "outputs": [
    {
     "data": {
      "text/plain": [
       "False"
      ]
     },
     "execution_count": 38,
     "metadata": {},
     "output_type": "execute_result"
    }
   ],
   "source": [
    "'codeup' == 'codeup' and 'codeup' == 'Codeup'\n"
   ]
  },
  {
   "cell_type": "code",
   "execution_count": 40,
   "id": "36944709",
   "metadata": {},
   "outputs": [
    {
     "data": {
      "text/plain": [
       "True"
      ]
     },
     "execution_count": 40,
     "metadata": {},
     "output_type": "execute_result"
    }
   ],
   "source": [
    "4 >= 0 and 1 != '1'\n"
   ]
  },
  {
   "cell_type": "code",
   "execution_count": 41,
   "id": "efb9ce60",
   "metadata": {},
   "outputs": [
    {
     "data": {
      "text/plain": [
       "True"
      ]
     },
     "execution_count": 41,
     "metadata": {},
     "output_type": "execute_result"
    }
   ],
   "source": [
    "6 % 3 == 0\n"
   ]
  },
  {
   "cell_type": "code",
   "execution_count": 42,
   "id": "74b80aa3",
   "metadata": {},
   "outputs": [
    {
     "data": {
      "text/plain": [
       "True"
      ]
     },
     "execution_count": 42,
     "metadata": {},
     "output_type": "execute_result"
    }
   ],
   "source": [
    "5 % 2 != 0\n"
   ]
  },
  {
   "cell_type": "code",
   "execution_count": 48,
   "id": "aa8bba80",
   "metadata": {},
   "outputs": [],
   "source": [
    "l = [1,2].append(2)\n",
    "\n"
   ]
  },
  {
   "cell_type": "code",
   "execution_count": 53,
   "id": "49b8dee9",
   "metadata": {},
   "outputs": [
    {
     "data": {
      "text/plain": [
       "[1, 2, 2, 3, 4, 5]"
      ]
     },
     "execution_count": 53,
     "metadata": {},
     "output_type": "execute_result"
    }
   ],
   "source": [
    "[1,2] + [2,3,4,5]\n"
   ]
  },
  {
   "cell_type": "code",
   "execution_count": 56,
   "id": "036b839b",
   "metadata": {},
   "outputs": [
    {
     "data": {
      "text/plain": [
       "[1, 2, 3, 1, 2, 3, 1, 2, 3]"
      ]
     },
     "execution_count": 56,
     "metadata": {},
     "output_type": "execute_result"
    }
   ],
   "source": [
    "[1,2,3] * 3\n"
   ]
  },
  {
   "cell_type": "code",
   "execution_count": 57,
   "id": "bc16d372",
   "metadata": {},
   "outputs": [
    {
     "ename": "TypeError",
     "evalue": "can't multiply sequence by non-int of type 'list'",
     "output_type": "error",
     "traceback": [
      "\u001b[0;31m---------------------------------------------------------------------------\u001b[0m",
      "\u001b[0;31mTypeError\u001b[0m                                 Traceback (most recent call last)",
      "\u001b[0;32m/var/folders/fz/0282wvb93rn0lm_p0nscw1sm0000gn/T/ipykernel_32301/3987011808.py\u001b[0m in \u001b[0;36m<module>\u001b[0;34m\u001b[0m\n\u001b[0;32m----> 1\u001b[0;31m \u001b[0;34m[\u001b[0m\u001b[0;36m1\u001b[0m\u001b[0;34m]\u001b[0m \u001b[0;34m*\u001b[0m \u001b[0;34m[\u001b[0m\u001b[0;36m2\u001b[0m\u001b[0;34m]\u001b[0m\u001b[0;34m\u001b[0m\u001b[0;34m\u001b[0m\u001b[0m\n\u001b[0m",
      "\u001b[0;31mTypeError\u001b[0m: can't multiply sequence by non-int of type 'list'"
     ]
    }
   ],
   "source": [
    "[1] * [2]\n"
   ]
  },
  {
   "cell_type": "code",
   "execution_count": 58,
   "id": "17d5915e",
   "metadata": {},
   "outputs": [
    {
     "data": {
      "text/plain": [
       "True"
      ]
     },
     "execution_count": 58,
     "metadata": {},
     "output_type": "execute_result"
    }
   ],
   "source": [
    "[] + [] == []\n"
   ]
  },
  {
   "cell_type": "code",
   "execution_count": 59,
   "id": "f3653b19",
   "metadata": {},
   "outputs": [
    {
     "ename": "TypeError",
     "evalue": "unsupported operand type(s) for +: 'dict' and 'dict'",
     "output_type": "error",
     "traceback": [
      "\u001b[0;31m---------------------------------------------------------------------------\u001b[0m",
      "\u001b[0;31mTypeError\u001b[0m                                 Traceback (most recent call last)",
      "\u001b[0;32m/var/folders/fz/0282wvb93rn0lm_p0nscw1sm0000gn/T/ipykernel_32301/1120052685.py\u001b[0m in \u001b[0;36m<module>\u001b[0;34m\u001b[0m\n\u001b[0;32m----> 1\u001b[0;31m \u001b[0;34m{\u001b[0m\u001b[0;34m}\u001b[0m \u001b[0;34m+\u001b[0m \u001b[0;34m{\u001b[0m\u001b[0;34m}\u001b[0m\u001b[0;34m\u001b[0m\u001b[0;34m\u001b[0m\u001b[0m\n\u001b[0m",
      "\u001b[0;31mTypeError\u001b[0m: unsupported operand type(s) for +: 'dict' and 'dict'"
     ]
    }
   ],
   "source": [
    "{} + {}\n"
   ]
  },
  {
   "cell_type": "markdown",
   "id": "40ae807d",
   "metadata": {},
   "source": [
    "You have rented some movies for your kids: The little mermaid (for 3 days), Brother Bear (for 5 days, they love it), and Hercules (1 day, you don't know yet if they're going to like it). If price for a movie per day is 3 dollars, how much will you have to pay?\n"
   ]
  },
  {
   "cell_type": "code",
   "execution_count": 61,
   "id": "06d0f23f",
   "metadata": {},
   "outputs": [],
   "source": [
    "movies = {'The little mermaid':3,'Brother Bear':5,'Hercules':1}"
   ]
  },
  {
   "cell_type": "code",
   "execution_count": 64,
   "id": "f2b2282e",
   "metadata": {},
   "outputs": [
    {
     "data": {
      "text/plain": [
       "27"
      ]
     },
     "execution_count": 64,
     "metadata": {},
     "output_type": "execute_result"
    }
   ],
   "source": [
    "sum(movies.values())*3"
   ]
  },
  {
   "cell_type": "markdown",
   "id": "95d4883f",
   "metadata": {},
   "source": [
    "Suppose you're working as a contractor for 3 companies: Google, Amazon and Facebook, they pay you a different rate per hour. Google pays 400 dollars per hour, Amazon 380, and Facebook 350. How much will you receive in payment for this week? You worked 10 hours for Facebook, 6 hours for Google and 4 hours for Amazon."
   ]
  },
  {
   "cell_type": "code",
   "execution_count": 65,
   "id": "fdd2ce1a",
   "metadata": {},
   "outputs": [],
   "source": [
    "google = 400\n",
    "amazon = 380\n",
    "facebook = 350\n",
    "week_pay = 10*facebook+6*google+4*amazon"
   ]
  },
  {
   "cell_type": "code",
   "execution_count": 66,
   "id": "39cc05aa",
   "metadata": {},
   "outputs": [
    {
     "data": {
      "text/plain": [
       "7420"
      ]
     },
     "execution_count": 66,
     "metadata": {},
     "output_type": "execute_result"
    }
   ],
   "source": [
    "week_pay"
   ]
  },
  {
   "cell_type": "markdown",
   "id": "2805a2ef",
   "metadata": {},
   "source": [
    "A student can be enrolled to a class only if the class is not full and the class schedule does not conflict with her current schedule."
   ]
  },
  {
   "cell_type": "code",
   "execution_count": 69,
   "id": "95901c1f",
   "metadata": {},
   "outputs": [],
   "source": [
    "is_class_full = False\n",
    "conflict = False\n",
    "enrolled = not is_class_full and not conflict"
   ]
  },
  {
   "cell_type": "code",
   "execution_count": 70,
   "id": "593e0334",
   "metadata": {},
   "outputs": [
    {
     "data": {
      "text/plain": [
       "True"
      ]
     },
     "execution_count": 70,
     "metadata": {},
     "output_type": "execute_result"
    }
   ],
   "source": [
    "enrolled"
   ]
  },
  {
   "cell_type": "markdown",
   "id": "766e4133",
   "metadata": {},
   "source": [
    "A product offer can be applied only if people buys more than 2 items, and the offer has not expired. Premium members do not need to buy a specific amount of products."
   ]
  },
  {
   "cell_type": "code",
   "execution_count": 71,
   "id": "7ec278c0",
   "metadata": {},
   "outputs": [],
   "source": [
    "username = 'codeup'\n",
    "password = 'notastrongpassword'\n"
   ]
  },
  {
   "cell_type": "markdown",
   "id": "a2028284",
   "metadata": {},
   "source": [
    "Create a variable that holds a boolean value for each of the following conditions:\n",
    "\n",
    "the password must be at least 5 characters\n",
    "the username must be no more than 20 characters\n",
    "the password must not be the same as the username\n",
    "bonus neither the username or password can start or end with whitespace"
   ]
  },
  {
   "cell_type": "code",
   "execution_count": 81,
   "id": "78daceea",
   "metadata": {},
   "outputs": [],
   "source": [
    "password_5_char = len(password)>5\n",
    "password_not_20 = len(password)<21 and password != username and (not password.startswith(' ') \n",
    "                                                                 and not username.startswith(' '))"
   ]
  },
  {
   "cell_type": "code",
   "execution_count": 73,
   "id": "0ca6534c",
   "metadata": {},
   "outputs": [
    {
     "data": {
      "text/plain": [
       "True"
      ]
     },
     "execution_count": 73,
     "metadata": {},
     "output_type": "execute_result"
    }
   ],
   "source": [
    "password_5_char"
   ]
  },
  {
   "cell_type": "code",
   "execution_count": 82,
   "id": "3596cd19",
   "metadata": {},
   "outputs": [
    {
     "data": {
      "text/plain": [
       "True"
      ]
     },
     "execution_count": 82,
     "metadata": {},
     "output_type": "execute_result"
    }
   ],
   "source": [
    "password_not_20"
   ]
  },
  {
   "cell_type": "code",
   "execution_count": 77,
   "id": "2146fcd0",
   "metadata": {},
   "outputs": [
    {
     "data": {
      "text/plain": [
       "False"
      ]
     },
     "execution_count": 77,
     "metadata": {},
     "output_type": "execute_result"
    }
   ],
   "source": [
    "password.startswith(' ')"
   ]
  },
  {
   "cell_type": "markdown",
   "id": "a36efff3",
   "metadata": {},
   "source": [
    "# Cool\n",
    "## not as cool\n",
    "### less cool"
   ]
  },
  {
   "cell_type": "code",
   "execution_count": null,
   "id": "ad1beddd",
   "metadata": {},
   "outputs": [],
   "source": []
  }
 ],
 "metadata": {
  "kernelspec": {
   "display_name": "Python 3 (ipykernel)",
   "language": "python",
   "name": "python3"
  },
  "language_info": {
   "codemirror_mode": {
    "name": "ipython",
    "version": 3
   },
   "file_extension": ".py",
   "mimetype": "text/x-python",
   "name": "python",
   "nbconvert_exporter": "python",
   "pygments_lexer": "ipython3",
   "version": "3.9.7"
  }
 },
 "nbformat": 4,
 "nbformat_minor": 5
}
